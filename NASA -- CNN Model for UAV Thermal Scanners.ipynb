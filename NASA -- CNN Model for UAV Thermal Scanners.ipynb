{
 "cells": [
  {
   "cell_type": "code",
   "execution_count": 139,
   "id": "485042a2",
   "metadata": {},
   "outputs": [],
   "source": [
    "import pandas as pd\n",
    "import numpy as np\n",
    "import matplotlib.pyplot as plt\n",
    "from sklearn.model_selection import train_test_split\n",
    "from sklearn.preprocessing import LabelEncoder\n",
    "from keras.models import Sequential\n",
    "from keras.layers import Conv2D, MaxPooling2D, Flatten, Dense\n",
    "from keras.utils import to_categorical"
   ]
  },
  {
   "cell_type": "code",
   "execution_count": 140,
   "id": "f4685997",
   "metadata": {},
   "outputs": [
    {
     "data": {
      "text/html": [
       "<div>\n",
       "<style scoped>\n",
       "    .dataframe tbody tr th:only-of-type {\n",
       "        vertical-align: middle;\n",
       "    }\n",
       "\n",
       "    .dataframe tbody tr th {\n",
       "        vertical-align: top;\n",
       "    }\n",
       "\n",
       "    .dataframe thead th {\n",
       "        text-align: right;\n",
       "    }\n",
       "</style>\n",
       "<table border=\"1\" class=\"dataframe\">\n",
       "  <thead>\n",
       "    <tr style=\"text-align: right;\">\n",
       "      <th></th>\n",
       "      <th>filename</th>\n",
       "      <th>dog</th>\n",
       "      <th>person</th>\n",
       "    </tr>\n",
       "  </thead>\n",
       "  <tbody>\n",
       "    <tr>\n",
       "      <th>0</th>\n",
       "      <td>IMG_0054_jpg.rf.03e0fd11bad6afeb085f2f156d7fd0...</td>\n",
       "      <td>1</td>\n",
       "      <td>0</td>\n",
       "    </tr>\n",
       "    <tr>\n",
       "      <th>1</th>\n",
       "      <td>IMG_0056_jpg.rf.0255dca8946ea0a34592394acd67b1...</td>\n",
       "      <td>1</td>\n",
       "      <td>0</td>\n",
       "    </tr>\n",
       "    <tr>\n",
       "      <th>2</th>\n",
       "      <td>IMG_0112_jpg.rf.016d04c2af3bc0221a5153d6af8b9f...</td>\n",
       "      <td>0</td>\n",
       "      <td>1</td>\n",
       "    </tr>\n",
       "    <tr>\n",
       "      <th>3</th>\n",
       "      <td>IMG_0094_jpg.rf.03dbd175cdbd5379608debcc783a53...</td>\n",
       "      <td>0</td>\n",
       "      <td>1</td>\n",
       "    </tr>\n",
       "    <tr>\n",
       "      <th>4</th>\n",
       "      <td>IMG_0109_jpg.rf.03607def018d49330ebef9a856f658...</td>\n",
       "      <td>0</td>\n",
       "      <td>1</td>\n",
       "    </tr>\n",
       "  </tbody>\n",
       "</table>\n",
       "</div>"
      ],
      "text/plain": [
       "                                            filename   dog   person\n",
       "0  IMG_0054_jpg.rf.03e0fd11bad6afeb085f2f156d7fd0...     1        0\n",
       "1  IMG_0056_jpg.rf.0255dca8946ea0a34592394acd67b1...     1        0\n",
       "2  IMG_0112_jpg.rf.016d04c2af3bc0221a5153d6af8b9f...     0        1\n",
       "3  IMG_0094_jpg.rf.03dbd175cdbd5379608debcc783a53...     0        1\n",
       "4  IMG_0109_jpg.rf.03607def018d49330ebef9a856f658...     0        1"
      ]
     },
     "execution_count": 140,
     "metadata": {},
     "output_type": "execute_result"
    }
   ],
   "source": [
    "data = pd.read_csv('_classes.csv')\n",
    "data.head()"
   ]
  },
  {
   "cell_type": "code",
   "execution_count": 141,
   "id": "457684fc",
   "metadata": {},
   "outputs": [],
   "source": [
    "def load_and_preprocess_images(image_paths, image_size):\n",
    "    images = []\n",
    "    for path in image_paths:\n",
    "        img = load_img(path, target_size=image_size)\n",
    "        img_array = img_to_array(img)\n",
    "        images.append(img_array)\n",
    "    return np.array(images)"
   ]
  },
  {
   "cell_type": "code",
   "execution_count": 142,
   "id": "829e493f",
   "metadata": {},
   "outputs": [],
   "source": [
    "features = data.iloc[:, 1:].values\n",
    "labels = data.iloc[:, 0].values"
   ]
  },
  {
   "cell_type": "code",
   "execution_count": 143,
   "id": "777da94d",
   "metadata": {},
   "outputs": [],
   "source": [
    "label_encoder = LabelEncoder()\n",
    "labels = label_encoder.fit_transform(labels)"
   ]
  },
  {
   "cell_type": "code",
   "execution_count": 144,
   "id": "f71e58a0",
   "metadata": {},
   "outputs": [],
   "source": [
    "X_train, X_test, y_train, y_test = train_test_split(features, labels, test_size=0.2, random_state=42)"
   ]
  },
  {
   "cell_type": "code",
   "execution_count": 145,
   "id": "3ccadbdf",
   "metadata": {},
   "outputs": [],
   "source": [
    "X_train = X_train.astype('float32') / 255.0\n",
    "X_test = X_test.astype('float32') / 255.0"
   ]
  },
  {
   "cell_type": "code",
   "execution_count": 146,
   "id": "14c6ec80",
   "metadata": {},
   "outputs": [],
   "source": [
    "num_classes = len(label_encoder.classes_)\n",
    "y_train = to_categorical(y_train, num_classes)\n",
    "y_test = to_categorical(y_test, num_classes)"
   ]
  },
  {
   "cell_type": "code",
   "execution_count": 161,
   "id": "0ce08aeb",
   "metadata": {},
   "outputs": [],
   "source": [
    "model = Sequential()\n",
    "model.add(Dense(128, activation='relu', input_shape=(2,)))\n",
    "model.add(Dense(num_classes, activation='softmax'))"
   ]
  },
  {
   "cell_type": "code",
   "execution_count": 162,
   "id": "2466a649",
   "metadata": {},
   "outputs": [],
   "source": [
    "model.compile(loss='categorical_crossentropy', optimizer='adam', metrics=['accuracy'])"
   ]
  },
  {
   "cell_type": "code",
   "execution_count": 163,
   "id": "a1d4d0b9",
   "metadata": {
    "scrolled": true
   },
   "outputs": [
    {
     "name": "stdout",
     "output_type": "stream",
     "text": [
      "Epoch 1/70\n",
      "4/4 [==============================] - 1s 75ms/step - loss: 4.9568 - accuracy: 0.0088 - val_loss: 4.9596 - val_accuracy: 0.0000e+00\n",
      "Epoch 2/70\n",
      "4/4 [==============================] - 0s 20ms/step - loss: 4.9549 - accuracy: 0.0088 - val_loss: 4.9639 - val_accuracy: 0.0000e+00\n",
      "Epoch 3/70\n",
      "4/4 [==============================] - 0s 21ms/step - loss: 4.9536 - accuracy: 0.0088 - val_loss: 4.9684 - val_accuracy: 0.0000e+00\n",
      "Epoch 4/70\n",
      "4/4 [==============================] - 0s 19ms/step - loss: 4.9524 - accuracy: 0.0088 - val_loss: 4.9734 - val_accuracy: 0.0000e+00\n",
      "Epoch 5/70\n",
      "4/4 [==============================] - 0s 20ms/step - loss: 4.9511 - accuracy: 0.0088 - val_loss: 4.9788 - val_accuracy: 0.0000e+00\n",
      "Epoch 6/70\n",
      "4/4 [==============================] - 0s 23ms/step - loss: 4.9497 - accuracy: 0.0088 - val_loss: 4.9848 - val_accuracy: 0.0000e+00\n",
      "Epoch 7/70\n",
      "4/4 [==============================] - 0s 20ms/step - loss: 4.9482 - accuracy: 0.0088 - val_loss: 4.9914 - val_accuracy: 0.0000e+00\n",
      "Epoch 8/70\n",
      "4/4 [==============================] - 0s 22ms/step - loss: 4.9465 - accuracy: 0.0088 - val_loss: 4.9987 - val_accuracy: 0.0000e+00\n",
      "Epoch 9/70\n",
      "4/4 [==============================] - 0s 24ms/step - loss: 4.9447 - accuracy: 0.0088 - val_loss: 5.0070 - val_accuracy: 0.0000e+00\n",
      "Epoch 10/70\n",
      "4/4 [==============================] - 0s 18ms/step - loss: 4.9426 - accuracy: 0.0088 - val_loss: 5.0163 - val_accuracy: 0.0000e+00\n",
      "Epoch 11/70\n",
      "4/4 [==============================] - 0s 20ms/step - loss: 4.9403 - accuracy: 0.0000e+00 - val_loss: 5.0267 - val_accuracy: 0.0000e+00\n",
      "Epoch 12/70\n",
      "4/4 [==============================] - 0s 20ms/step - loss: 4.9378 - accuracy: 0.0088 - val_loss: 5.0385 - val_accuracy: 0.0000e+00\n",
      "Epoch 13/70\n",
      "4/4 [==============================] - 0s 20ms/step - loss: 4.9350 - accuracy: 0.0088 - val_loss: 5.0519 - val_accuracy: 0.0000e+00\n",
      "Epoch 14/70\n",
      "4/4 [==============================] - 0s 21ms/step - loss: 4.9318 - accuracy: 0.0088 - val_loss: 5.0670 - val_accuracy: 0.0000e+00\n",
      "Epoch 15/70\n",
      "4/4 [==============================] - 0s 23ms/step - loss: 4.9284 - accuracy: 0.0088 - val_loss: 5.0836 - val_accuracy: 0.0000e+00\n",
      "Epoch 16/70\n",
      "4/4 [==============================] - 0s 22ms/step - loss: 4.9247 - accuracy: 0.0088 - val_loss: 5.1023 - val_accuracy: 0.0000e+00\n",
      "Epoch 17/70\n",
      "4/4 [==============================] - 0s 23ms/step - loss: 4.9205 - accuracy: 0.0088 - val_loss: 5.1226 - val_accuracy: 0.0000e+00\n",
      "Epoch 18/70\n",
      "4/4 [==============================] - 0s 22ms/step - loss: 4.9163 - accuracy: 0.0088 - val_loss: 5.1452 - val_accuracy: 0.0000e+00\n",
      "Epoch 19/70\n",
      "4/4 [==============================] - 0s 23ms/step - loss: 4.9116 - accuracy: 0.0088 - val_loss: 5.1697 - val_accuracy: 0.0000e+00\n",
      "Epoch 20/70\n",
      "4/4 [==============================] - 0s 22ms/step - loss: 4.9065 - accuracy: 0.0088 - val_loss: 5.1963 - val_accuracy: 0.0000e+00\n",
      "Epoch 21/70\n",
      "4/4 [==============================] - 0s 22ms/step - loss: 4.9015 - accuracy: 0.0088 - val_loss: 5.2255 - val_accuracy: 0.0000e+00\n",
      "Epoch 22/70\n",
      "4/4 [==============================] - 0s 24ms/step - loss: 4.8959 - accuracy: 0.0088 - val_loss: 5.2564 - val_accuracy: 0.0000e+00\n",
      "Epoch 23/70\n",
      "4/4 [==============================] - 0s 23ms/step - loss: 4.8904 - accuracy: 0.0088 - val_loss: 5.2898 - val_accuracy: 0.0000e+00\n",
      "Epoch 24/70\n",
      "4/4 [==============================] - 0s 20ms/step - loss: 4.8845 - accuracy: 0.0088 - val_loss: 5.3250 - val_accuracy: 0.0000e+00\n",
      "Epoch 25/70\n",
      "4/4 [==============================] - 0s 16ms/step - loss: 4.8787 - accuracy: 0.0088 - val_loss: 5.3625 - val_accuracy: 0.0000e+00\n",
      "Epoch 26/70\n",
      "4/4 [==============================] - 0s 16ms/step - loss: 4.8727 - accuracy: 0.0088 - val_loss: 5.4021 - val_accuracy: 0.0000e+00\n",
      "Epoch 27/70\n",
      "4/4 [==============================] - 0s 20ms/step - loss: 4.8667 - accuracy: 0.0088 - val_loss: 5.4435 - val_accuracy: 0.0000e+00\n",
      "Epoch 28/70\n",
      "4/4 [==============================] - 0s 23ms/step - loss: 4.8608 - accuracy: 0.0088 - val_loss: 5.4864 - val_accuracy: 0.0000e+00\n",
      "Epoch 29/70\n",
      "4/4 [==============================] - 0s 25ms/step - loss: 4.8550 - accuracy: 0.0088 - val_loss: 5.5311 - val_accuracy: 0.0000e+00\n",
      "Epoch 30/70\n",
      "4/4 [==============================] - 0s 20ms/step - loss: 4.8490 - accuracy: 0.0088 - val_loss: 5.5771 - val_accuracy: 0.0000e+00\n",
      "Epoch 31/70\n",
      "4/4 [==============================] - 0s 20ms/step - loss: 4.8434 - accuracy: 0.0088 - val_loss: 5.6246 - val_accuracy: 0.0000e+00\n",
      "Epoch 32/70\n",
      "4/4 [==============================] - 0s 23ms/step - loss: 4.8378 - accuracy: 0.0088 - val_loss: 5.6732 - val_accuracy: 0.0000e+00\n",
      "Epoch 33/70\n",
      "4/4 [==============================] - 0s 22ms/step - loss: 4.8323 - accuracy: 0.0088 - val_loss: 5.7230 - val_accuracy: 0.0000e+00\n",
      "Epoch 34/70\n",
      "4/4 [==============================] - 0s 22ms/step - loss: 4.8273 - accuracy: 0.0088 - val_loss: 5.7741 - val_accuracy: 0.0000e+00\n",
      "Epoch 35/70\n",
      "4/4 [==============================] - 0s 20ms/step - loss: 4.8220 - accuracy: 0.0088 - val_loss: 5.8256 - val_accuracy: 0.0000e+00\n",
      "Epoch 36/70\n",
      "4/4 [==============================] - 0s 21ms/step - loss: 4.8173 - accuracy: 0.0088 - val_loss: 5.8776 - val_accuracy: 0.0000e+00\n",
      "Epoch 37/70\n",
      "4/4 [==============================] - 0s 18ms/step - loss: 4.8127 - accuracy: 0.0000e+00 - val_loss: 5.9302 - val_accuracy: 0.0000e+00\n",
      "Epoch 38/70\n",
      "4/4 [==============================] - 0s 20ms/step - loss: 4.8085 - accuracy: 0.0000e+00 - val_loss: 5.9833 - val_accuracy: 0.0000e+00\n",
      "Epoch 39/70\n",
      "4/4 [==============================] - 0s 20ms/step - loss: 4.8042 - accuracy: 0.0000e+00 - val_loss: 6.0360 - val_accuracy: 0.0000e+00\n",
      "Epoch 40/70\n",
      "4/4 [==============================] - 0s 21ms/step - loss: 4.8004 - accuracy: 0.0088 - val_loss: 6.0891 - val_accuracy: 0.0000e+00\n",
      "Epoch 41/70\n",
      "4/4 [==============================] - 0s 21ms/step - loss: 4.7967 - accuracy: 0.0088 - val_loss: 6.1419 - val_accuracy: 0.0000e+00\n",
      "Epoch 42/70\n",
      "4/4 [==============================] - 0s 19ms/step - loss: 4.7931 - accuracy: 0.0088 - val_loss: 6.1942 - val_accuracy: 0.0000e+00\n",
      "Epoch 43/70\n",
      "4/4 [==============================] - 0s 20ms/step - loss: 4.7898 - accuracy: 0.0088 - val_loss: 6.2462 - val_accuracy: 0.0000e+00\n",
      "Epoch 44/70\n",
      "4/4 [==============================] - 0s 22ms/step - loss: 4.7867 - accuracy: 0.0088 - val_loss: 6.2977 - val_accuracy: 0.0000e+00\n",
      "Epoch 45/70\n",
      "4/4 [==============================] - 0s 21ms/step - loss: 4.7840 - accuracy: 0.0088 - val_loss: 6.3490 - val_accuracy: 0.0000e+00\n",
      "Epoch 46/70\n",
      "4/4 [==============================] - 0s 22ms/step - loss: 4.7810 - accuracy: 0.0088 - val_loss: 6.3997 - val_accuracy: 0.0000e+00\n",
      "Epoch 47/70\n",
      "4/4 [==============================] - 0s 22ms/step - loss: 4.7783 - accuracy: 0.0088 - val_loss: 6.4499 - val_accuracy: 0.0000e+00\n",
      "Epoch 48/70\n",
      "4/4 [==============================] - 0s 24ms/step - loss: 4.7760 - accuracy: 0.0088 - val_loss: 6.4994 - val_accuracy: 0.0000e+00\n",
      "Epoch 49/70\n",
      "4/4 [==============================] - 0s 20ms/step - loss: 4.7739 - accuracy: 0.0088 - val_loss: 6.5480 - val_accuracy: 0.0000e+00\n",
      "Epoch 50/70\n",
      "4/4 [==============================] - 0s 21ms/step - loss: 4.7717 - accuracy: 0.0088 - val_loss: 6.5962 - val_accuracy: 0.0000e+00\n",
      "Epoch 51/70\n",
      "4/4 [==============================] - 0s 20ms/step - loss: 4.7697 - accuracy: 0.0088 - val_loss: 6.6437 - val_accuracy: 0.0000e+00\n",
      "Epoch 52/70\n",
      "4/4 [==============================] - 0s 19ms/step - loss: 4.7680 - accuracy: 0.0088 - val_loss: 6.6901 - val_accuracy: 0.0000e+00\n",
      "Epoch 53/70\n",
      "4/4 [==============================] - 0s 19ms/step - loss: 4.7662 - accuracy: 0.0088 - val_loss: 6.7356 - val_accuracy: 0.0000e+00\n",
      "Epoch 54/70\n",
      "4/4 [==============================] - 0s 20ms/step - loss: 4.7645 - accuracy: 0.0088 - val_loss: 6.7806 - val_accuracy: 0.0000e+00\n",
      "Epoch 55/70\n",
      "4/4 [==============================] - 0s 22ms/step - loss: 4.7631 - accuracy: 0.0088 - val_loss: 6.8249 - val_accuracy: 0.0000e+00\n",
      "Epoch 56/70\n",
      "4/4 [==============================] - 0s 21ms/step - loss: 4.7615 - accuracy: 0.0088 - val_loss: 6.8677 - val_accuracy: 0.0000e+00\n",
      "Epoch 57/70\n",
      "4/4 [==============================] - 0s 21ms/step - loss: 4.7603 - accuracy: 0.0088 - val_loss: 6.9100 - val_accuracy: 0.0000e+00\n",
      "Epoch 58/70\n",
      "4/4 [==============================] - 0s 19ms/step - loss: 4.7588 - accuracy: 0.0088 - val_loss: 6.9522 - val_accuracy: 0.0000e+00\n",
      "Epoch 59/70\n",
      "4/4 [==============================] - 0s 21ms/step - loss: 4.7577 - accuracy: 0.0088 - val_loss: 6.9932 - val_accuracy: 0.0000e+00\n",
      "Epoch 60/70\n",
      "4/4 [==============================] - 0s 22ms/step - loss: 4.7567 - accuracy: 0.0088 - val_loss: 7.0332 - val_accuracy: 0.0000e+00\n",
      "Epoch 61/70\n",
      "4/4 [==============================] - 0s 21ms/step - loss: 4.7554 - accuracy: 0.0088 - val_loss: 7.0728 - val_accuracy: 0.0000e+00\n",
      "Epoch 62/70\n",
      "4/4 [==============================] - 0s 23ms/step - loss: 4.7547 - accuracy: 0.0088 - val_loss: 7.1114 - val_accuracy: 0.0000e+00\n",
      "Epoch 63/70\n",
      "4/4 [==============================] - 0s 21ms/step - loss: 4.7535 - accuracy: 0.0088 - val_loss: 7.1497 - val_accuracy: 0.0000e+00\n",
      "Epoch 64/70\n",
      "4/4 [==============================] - 0s 23ms/step - loss: 4.7528 - accuracy: 0.0088 - val_loss: 7.1867 - val_accuracy: 0.0000e+00\n",
      "Epoch 65/70\n",
      "4/4 [==============================] - 0s 21ms/step - loss: 4.7518 - accuracy: 0.0088 - val_loss: 7.2233 - val_accuracy: 0.0000e+00\n",
      "Epoch 66/70\n",
      "4/4 [==============================] - 0s 19ms/step - loss: 4.7510 - accuracy: 0.0088 - val_loss: 7.2591 - val_accuracy: 0.0000e+00\n",
      "Epoch 67/70\n",
      "4/4 [==============================] - 0s 23ms/step - loss: 4.7501 - accuracy: 0.0000e+00 - val_loss: 7.2942 - val_accuracy: 0.0000e+00\n",
      "Epoch 68/70\n",
      "4/4 [==============================] - 0s 20ms/step - loss: 4.7494 - accuracy: 0.0088 - val_loss: 7.3292 - val_accuracy: 0.0000e+00\n",
      "Epoch 69/70\n",
      "4/4 [==============================] - 0s 21ms/step - loss: 4.7486 - accuracy: 0.0088 - val_loss: 7.3631 - val_accuracy: 0.0000e+00\n",
      "Epoch 70/70\n",
      "4/4 [==============================] - 0s 20ms/step - loss: 4.7481 - accuracy: 0.0088 - val_loss: 7.3969 - val_accuracy: 0.0000e+00\n"
     ]
    }
   ],
   "source": [
    "history = model.fit(X_train, y_train, validation_data=(X_test, y_test), epochs=70, batch_size=32)"
   ]
  },
  {
   "cell_type": "code",
   "execution_count": 164,
   "id": "8f3ef515",
   "metadata": {},
   "outputs": [
    {
     "data": {
      "image/png": "[encoded data removed]",
      "text/plain": [
       "<Figure size 640x480 with 1 Axes>"
      ]
     },
     "metadata": {},
     "output_type": "display_data"
    }
   ],
   "source": [
    "plt.plot(history.history['accuracy'])\n",
    "plt.plot(history.history['val_accuracy'])\n",
    "plt.title('Model Accuracy')\n",
    "plt.xlabel('Epoch')\n",
    "plt.ylabel('Accuracy')\n",
    "plt.legend(['Train', 'Test'], loc='upper left')\n",
    "plt.show()"
   ]
  },
  {
   "cell_type": "code",
   "execution_count": 165,
   "id": "7017d879",
   "metadata": {},
   "outputs": [
    {
     "name": "stdout",
     "output_type": "stream",
     "text": [
      "1/1 [==============================] - 0s 66ms/step\n"
     ]
    }
   ],
   "source": [
    "y_pred = model.predict(X_test)\n",
    "confidence_levels = np.max(y_pred, axis=1)"
   ]
  },
  {
   "cell_type": "code",
   "execution_count": null,
   "id": "99b95da1",
   "metadata": {},
   "outputs": [],
   "source": []
  },
  {
   "cell_type": "code",
   "execution_count": null,
   "id": "79244acc",
   "metadata": {},
   "outputs": [],
   "source": []
  },
  {
   "cell_type": "code",
   "execution_count": null,
   "id": "62b20587",
   "metadata": {},
   "outputs": [],
   "source": []
  }
 ],
 "metadata": {
  "kernelspec": {
   "display_name": "Python 3 (ipykernel)",
   "language": "python",
   "name": "python3"
  },
  "language_info": {
   "codemirror_mode": {
    "name": "ipython",
    "version": 3
   },
   "file_extension": ".py",
   "mimetype": "text/x-python",
   "name": "python",
   "nbconvert_exporter": "python",
   "pygments_lexer": "ipython3",
   "version": "3.9.13"
  }
 },
 "nbformat": 4,
 "nbformat_minor": 5
}
