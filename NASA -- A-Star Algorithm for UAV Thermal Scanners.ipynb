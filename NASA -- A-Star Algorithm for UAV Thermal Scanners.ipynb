{
 "cells": [
  {
   "cell_type": "code",
   "execution_count": 11,
   "id": "dfe8c6a1",
   "metadata": {},
   "outputs": [],
   "source": [
    "import heapq\n",
    "#This will help us create a priority queue, which is important for us as we will track our minimum values of \"f\""
   ]
  },
  {
   "cell_type": "code",
   "execution_count": 12,
   "id": "8d4a7da2",
   "metadata": {},
   "outputs": [],
   "source": [
    "class Node:\n",
    "    #this function initializes all the necessary variable: position, g, h, f, and parent node\n",
    "    def __init__(self, position):\n",
    "        self.position = position\n",
    "        self.g_cost = 0\n",
    "        self.h_cost = 0\n",
    "        self.f_cost = 0\n",
    "        self.parent = None\n",
    "    \n",
    "    #compared to another node, this node will always be less than it\n",
    "    def __lt__(self, other):\n",
    "        return self.f_cost < other.f_cost\n"
   ]
  },
  {
   "cell_type": "code",
   "execution_count": 13,
   "id": "b1107cc4",
   "metadata": {},
   "outputs": [],
   "source": [
    "#using manhattan distance to find distance between start and end\n",
    "def calc_distance(start_node, end_node):\n",
    "    return abs(end_node.position[0] - start_node.position[0]) + abs(end_node.position[1] - start_node.position[1])"
   ]
  },
  {
   "cell_type": "code",
   "execution_count": 14,
   "id": "f548c948",
   "metadata": {},
   "outputs": [],
   "source": [
    "#Finds neighboring nodes to a give node\n",
    "def get_neighboring_nodes(node, grid):\n",
    "    neighbors = []\n",
    "    x, y = node.position\n",
    "    \n",
    "    #Defines the surrounding places to move to\n",
    "    movement = [(0, -1), (0, 1), (-1, 0), (1, 0)]\n",
    "    \n",
    "    #Add the values to the current node's coordinates to get neighbor node's coordinate\n",
    "    for dx, dy in movement:\n",
    "        new_x, new_y = x + dx, y + dy\n",
    "        \n",
    "        #Checks if the neighbors are within grid boundaries\n",
    "        if 0 <= new_x < len(grid) and 0 <= new_y < len(grid[0]):\n",
    "            neighbors.append(Node((new_x, new_y)))\n",
    "\n",
    "    return neighbors"
   ]
  },
  {
   "cell_type": "code",
   "execution_count": 15,
   "id": "49c68ce3",
   "metadata": {},
   "outputs": [],
   "source": [
    "#Construct a path from goal node to start node\n",
    "def construct_path(current_node):\n",
    "    path = []\n",
    "    while current_node is not None:\n",
    "        path.append(current_node.position)\n",
    "        current_node = current_node.parent\n",
    "    return list(reversed(path))"
   ]
  },
  {
   "cell_type": "code",
   "execution_count": 20,
   "id": "5864c9fc",
   "metadata": {},
   "outputs": [],
   "source": [
    "#actual astar algorithm!\n",
    "def astar_search(grid, start, end):\n",
    "    #Initialize start and end nodes\n",
    "    start_node = Node(start)\n",
    "    end_node = Node(end)\n",
    "\n",
    "    #These lists are very important to the A-star algorithm, as they will store the explored and unexplored nodes\n",
    "    open_list = []\n",
    "    closed_list = set()\n",
    "\n",
    "    heapq.heappush(open_list, start_node)\n",
    "\n",
    "    while open_list:\n",
    "        current_node = heapq.heappop(open_list)\n",
    "\n",
    "        #Check\n",
    "        if current_node.position == end_node.position:\n",
    "            return construct_path(current_node)\n",
    "\n",
    "        #Think of this list like \"storage\" -- to be used later or not at all.\n",
    "        closed_list.add(current_node)\n",
    "\n",
    "        neighbors = get_neighboring_nodes(current_node, grid)\n",
    "        for neighbor in neighbors:\n",
    "            if neighbor in closed_list:\n",
    "                continue\n",
    "\n",
    "            #Cost calculation! We can calculate how much each node \"costs\" us, using the values of g and h\n",
    "            neighbor.g_cost = current_node.g_cost + 1\n",
    "            neighbor.h_cost = calc_distance(neighbor, end_node)\n",
    "            neighbor.f_cost = neighbor.g_cost + neighbor.h_cost\n",
    "            neighbor.parent = current_node\n",
    "\n",
    "            if neighbor not in open_list:\n",
    "                heapq.heappush(open_list, neighbor)\n",
    "            else:\n",
    "               \n",
    "                index = open_list.index(neighbor)\n",
    "                if neighbor < open_list[index]:\n",
    "                    open_list[index] = neighbor\n",
    "                    heapq.heapify(open_list)\n",
    "\n",
    "    #No path found\n",
    "    return None"
   ]
  },
  {
   "cell_type": "code",
   "execution_count": 21,
   "id": "dc017736",
   "metadata": {
    "scrolled": true
   },
   "outputs": [
    {
     "name": "stdout",
     "output_type": "stream",
     "text": [
      "Path found: [(0, 0), (0, 1), (0, 2), (1, 2), (2, 2), (3, 2), (3, 3), (4, 3), (4, 4)]\n"
     ]
    }
   ],
   "source": [
    "# Example usage\n",
    "grid = [\n",
    "    [0, 1, 0, 0, 0],\n",
    "    [0, 1, 0, 1, 0],\n",
    "    [0, 0, 0, 0, 0],\n",
    "    [0, 1, 0, 1, 0],\n",
    "    [0, 0, 0, 0, 0],\n",
    "]\n",
    "\n",
    "start = (0, 0)\n",
    "end = (4, 4)\n",
    "\n",
    "path = astar_search(grid, start, end)\n",
    "if path:\n",
    "    print(\"Path found:\", path)\n",
    "else:\n",
    "    print(\"No path found.\")"
   ]
  },
  {
   "cell_type": "code",
   "execution_count": 22,
   "id": "05040e99",
   "metadata": {},
   "outputs": [],
   "source": [
    "# Notes:\n",
    "# This code is a very basic demonstration of the A-Star Algorithm. \n",
    "# It only serves to show how the algorithm can be implemented"
   ]
  },
  {
   "cell_type": "code",
   "execution_count": null,
   "id": "74ea6cf2",
   "metadata": {},
   "outputs": [],
   "source": []
  }
 ],
 "metadata": {
  "kernelspec": {
   "display_name": "Python 3 (ipykernel)",
   "language": "python",
   "name": "python3"
  },
  "language_info": {
   "codemirror_mode": {
    "name": "ipython",
    "version": 3
   },
   "file_extension": ".py",
   "mimetype": "text/x-python",
   "name": "python",
   "nbconvert_exporter": "python",
   "pygments_lexer": "ipython3",
   "version": "3.9.13"
  }
 },
 "nbformat": 4,
 "nbformat_minor": 5
}
